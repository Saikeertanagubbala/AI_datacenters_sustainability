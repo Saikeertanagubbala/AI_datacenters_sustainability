{
 "cells": [
  {
   "cell_type": "code",
   "execution_count": 1,
   "id": "f7b0f82f-37ed-492c-9681-367877be526d",
   "metadata": {},
   "outputs": [],
   "source": [
    "import pandas as pd\n",
    "import numpy as np\n",
    "import seaborn as sns\n",
    "import matplotlib.pyplot as plt"
   ]
  },
  {
   "cell_type": "code",
   "execution_count": 2,
   "id": "90f33de5-b18c-4702-853b-aaae07ba56cb",
   "metadata": {},
   "outputs": [
    {
     "data": {
      "text/html": [
       "<div>\n",
       "<style scoped>\n",
       "    .dataframe tbody tr th:only-of-type {\n",
       "        vertical-align: middle;\n",
       "    }\n",
       "\n",
       "    .dataframe tbody tr th {\n",
       "        vertical-align: top;\n",
       "    }\n",
       "\n",
       "    .dataframe thead th {\n",
       "        text-align: right;\n",
       "    }\n",
       "</style>\n",
       "<table border=\"1\" class=\"dataframe\">\n",
       "  <thead>\n",
       "    <tr style=\"text-align: right;\">\n",
       "      <th></th>\n",
       "      <th>country</th>\n",
       "      <th>total_data_centers</th>\n",
       "      <th>hyperscale_data_centers</th>\n",
       "      <th>colocation_data_centers</th>\n",
       "      <th>floor_space_sqft_total</th>\n",
       "      <th>power_capacity_MW_total</th>\n",
       "      <th>average_renewable_energy_usage_percent</th>\n",
       "      <th>tier_distribution</th>\n",
       "      <th>key_operators</th>\n",
       "      <th>cloud_provider</th>\n",
       "      <th>internet_penetration_percent</th>\n",
       "      <th>growth_rate_of_data_centers_percent_per_year</th>\n",
       "      <th>cooling_technologies_common</th>\n",
       "    </tr>\n",
       "  </thead>\n",
       "  <tbody>\n",
       "    <tr>\n",
       "      <th>0</th>\n",
       "      <td>United States</td>\n",
       "      <td>5426</td>\n",
       "      <td>300+</td>\n",
       "      <td>~2,000+</td>\n",
       "      <td>~3,552,000,000</td>\n",
       "      <td>~12,000+</td>\n",
       "      <td>~27%</td>\n",
       "      <td>I:5%, II:15%, III:60%, IV:20%</td>\n",
       "      <td>Equinix, Digital Realty, CoreSite, AWS</td>\n",
       "      <td>AWS:Yes, GCP:Yes, Azure:Yes, Oracle:Yes</td>\n",
       "      <td>92%</td>\n",
       "      <td>12%</td>\n",
       "      <td>Air, Liquid, Immersion</td>\n",
       "    </tr>\n",
       "    <tr>\n",
       "      <th>1</th>\n",
       "      <td>Germany</td>\n",
       "      <td>529</td>\n",
       "      <td>50</td>\n",
       "      <td>~200</td>\n",
       "      <td>~350,000,000</td>\n",
       "      <td>~2,000+</td>\n",
       "      <td>40%+</td>\n",
       "      <td>II:10%, III:70%, IV:20%</td>\n",
       "      <td>Equinix, Digital Realty, e-shelter</td>\n",
       "      <td>AWS:Yes, GCP:Yes, Azure:Yes, Oracle:Yes</td>\n",
       "      <td>92%</td>\n",
       "      <td>8%</td>\n",
       "      <td>Air, Indirect Evap.</td>\n",
       "    </tr>\n",
       "    <tr>\n",
       "      <th>2</th>\n",
       "      <td>United Kingdom</td>\n",
       "      <td>523</td>\n",
       "      <td>30</td>\n",
       "      <td>~150</td>\n",
       "      <td>~200,000,000</td>\n",
       "      <td>~1,000+</td>\n",
       "      <td>0.45</td>\n",
       "      <td>II:15%, III:70%, IV:15%</td>\n",
       "      <td>Equinix, Telehouse, Virtus</td>\n",
       "      <td>AWS:Yes, GCP:Yes, Azure:Yes, Oracle:Yes</td>\n",
       "      <td>96%</td>\n",
       "      <td>7%</td>\n",
       "      <td>Air, Free Cooling</td>\n",
       "    </tr>\n",
       "    <tr>\n",
       "      <th>3</th>\n",
       "      <td>China</td>\n",
       "      <td>449</td>\n",
       "      <td>100</td>\n",
       "      <td>~1,000+</td>\n",
       "      <td>~500,000,000</td>\n",
       "      <td>~8,000+</td>\n",
       "      <td>0.25</td>\n",
       "      <td>II:20%, III:60%, IV:20%</td>\n",
       "      <td>China Unicom, Tencent, Alibaba, GDS</td>\n",
       "      <td>AWS:Yes, GCP:No, Azure:Yes, Oracle:Yes</td>\n",
       "      <td>76%</td>\n",
       "      <td>15%</td>\n",
       "      <td>Air, Liquid</td>\n",
       "    </tr>\n",
       "    <tr>\n",
       "      <th>4</th>\n",
       "      <td>France</td>\n",
       "      <td>322</td>\n",
       "      <td>20</td>\n",
       "      <td>~110</td>\n",
       "      <td>~120,000,000</td>\n",
       "      <td>~700</td>\n",
       "      <td>40%+</td>\n",
       "      <td>II:20%, III:70%, IV:10%</td>\n",
       "      <td>Equinix, Interxion, Data4</td>\n",
       "      <td>AWS:Yes, GCP:Yes, Azure:Yes, Oracle:Yes</td>\n",
       "      <td>91%</td>\n",
       "      <td>6%</td>\n",
       "      <td>Air, Liquid</td>\n",
       "    </tr>\n",
       "  </tbody>\n",
       "</table>\n",
       "</div>"
      ],
      "text/plain": [
       "          country  total_data_centers hyperscale_data_centers  \\\n",
       "0   United States                5426                    300+   \n",
       "1         Germany                 529                      50   \n",
       "2  United Kingdom                 523                      30   \n",
       "3           China                 449                     100   \n",
       "4          France                 322                      20   \n",
       "\n",
       "  colocation_data_centers floor_space_sqft_total power_capacity_MW_total  \\\n",
       "0                 ~2,000+         ~3,552,000,000                ~12,000+   \n",
       "1                    ~200           ~350,000,000                 ~2,000+   \n",
       "2                    ~150           ~200,000,000                 ~1,000+   \n",
       "3                 ~1,000+           ~500,000,000                 ~8,000+   \n",
       "4                    ~110           ~120,000,000                    ~700   \n",
       "\n",
       "  average_renewable_energy_usage_percent              tier_distribution  \\\n",
       "0                                   ~27%  I:5%, II:15%, III:60%, IV:20%   \n",
       "1                                   40%+        II:10%, III:70%, IV:20%   \n",
       "2                                   0.45        II:15%, III:70%, IV:15%   \n",
       "3                                   0.25        II:20%, III:60%, IV:20%   \n",
       "4                                   40%+        II:20%, III:70%, IV:10%   \n",
       "\n",
       "                            key_operators  \\\n",
       "0  Equinix, Digital Realty, CoreSite, AWS   \n",
       "1      Equinix, Digital Realty, e-shelter   \n",
       "2              Equinix, Telehouse, Virtus   \n",
       "3     China Unicom, Tencent, Alibaba, GDS   \n",
       "4               Equinix, Interxion, Data4   \n",
       "\n",
       "                            cloud_provider internet_penetration_percent  \\\n",
       "0  AWS:Yes, GCP:Yes, Azure:Yes, Oracle:Yes                          92%   \n",
       "1  AWS:Yes, GCP:Yes, Azure:Yes, Oracle:Yes                          92%   \n",
       "2  AWS:Yes, GCP:Yes, Azure:Yes, Oracle:Yes                          96%   \n",
       "3   AWS:Yes, GCP:No, Azure:Yes, Oracle:Yes                          76%   \n",
       "4  AWS:Yes, GCP:Yes, Azure:Yes, Oracle:Yes                          91%   \n",
       "\n",
       "  growth_rate_of_data_centers_percent_per_year cooling_technologies_common  \n",
       "0                                          12%      Air, Liquid, Immersion  \n",
       "1                                           8%         Air, Indirect Evap.  \n",
       "2                                           7%           Air, Free Cooling  \n",
       "3                                          15%                 Air, Liquid  \n",
       "4                                           6%                 Air, Liquid  "
      ]
     },
     "metadata": {},
     "output_type": "display_data"
    }
   ],
   "source": [
    "data_centers = pd.read_csv(\"data_centers.csv\", usecols=['country', 'total_data_centers', 'hyperscale_data_centers',\n",
    "                                                        'colocation_data_centers', 'floor_space_sqft_total',\n",
    "                                                        'power_capacity_MW_total', 'average_renewable_energy_usage_percent',\n",
    "                                                        'tier_distribution', 'key_operators', 'cloud_provider',\n",
    "                                                        'internet_penetration_percent','growth_rate_of_data_centers_percent_per_year',\n",
    "                                                        'cooling_technologies_common'],\n",
    "                          na_values=['N/A', 'NA', 'unknown', '', None, 'Unknown', '?', 'No data'])\n",
    "display(data_centers.head())"
   ]
  },
  {
   "cell_type": "code",
   "execution_count": 3,
   "id": "cfb3bdec-9871-4750-81c7-bff639015633",
   "metadata": {},
   "outputs": [
    {
     "name": "stdout",
     "output_type": "stream",
     "text": [
      "<class 'pandas.core.frame.DataFrame'>\n",
      "RangeIndex: 191 entries, 0 to 190\n",
      "Data columns (total 13 columns):\n",
      " #   Column                                        Non-Null Count  Dtype \n",
      "---  ------                                        --------------  ----- \n",
      " 0   country                                       191 non-null    object\n",
      " 1   total_data_centers                            191 non-null    int64 \n",
      " 2   hyperscale_data_centers                       191 non-null    object\n",
      " 3   colocation_data_centers                       191 non-null    object\n",
      " 4   floor_space_sqft_total                        184 non-null    object\n",
      " 5   power_capacity_MW_total                       165 non-null    object\n",
      " 6   average_renewable_energy_usage_percent        148 non-null    object\n",
      " 7   tier_distribution                             179 non-null    object\n",
      " 8   key_operators                                 170 non-null    object\n",
      " 9   cloud_provider                                149 non-null    object\n",
      " 10  internet_penetration_percent                  190 non-null    object\n",
      " 11  growth_rate_of_data_centers_percent_per_year  174 non-null    object\n",
      " 12  cooling_technologies_common                   145 non-null    object\n",
      "dtypes: int64(1), object(12)\n",
      "memory usage: 19.5+ KB\n",
      "None\n",
      "country                                          0\n",
      "total_data_centers                               0\n",
      "hyperscale_data_centers                          0\n",
      "colocation_data_centers                          0\n",
      "floor_space_sqft_total                           7\n",
      "power_capacity_MW_total                         26\n",
      "average_renewable_energy_usage_percent          43\n",
      "tier_distribution                               12\n",
      "key_operators                                   21\n",
      "cloud_provider                                  42\n",
      "internet_penetration_percent                     1\n",
      "growth_rate_of_data_centers_percent_per_year    17\n",
      "cooling_technologies_common                     46\n",
      "dtype: int64\n",
      "Index(['country', 'total_data_centers', 'hyperscale_data_centers',\n",
      "       'colocation_data_centers', 'floor_space_sqft_total',\n",
      "       'power_capacity_MW_total', 'average_renewable_energy_usage_percent',\n",
      "       'tier_distribution', 'key_operators', 'cloud_provider',\n",
      "       'internet_penetration_percent',\n",
      "       'growth_rate_of_data_centers_percent_per_year',\n",
      "       'cooling_technologies_common'],\n",
      "      dtype='object')\n",
      "(191, 13)\n"
     ]
    }
   ],
   "source": [
    "print(data_centers.info())\n",
    "data_centers.describe()\n",
    "print(data_centers.isnull().sum()) #gives a sum of all the misisng values per variable/column in df\n",
    "print(data_centers.columns)\n",
    "print(data_centers.shape)"
   ]
  },
  {
   "cell_type": "code",
   "execution_count": 4,
   "id": "8a305a74-5b20-47a8-8590-74ed05a70aa2",
   "metadata": {},
   "outputs": [
    {
     "data": {
      "image/png": "[encoded data removed]",
      "text/plain": [
       "<Figure size 1200x600 with 1 Axes>"
      ]
     },
     "metadata": {},
     "output_type": "display_data"
    }
   ],
   "source": [
    "data_centers_dropped_columns = data_centers[['country', 'total_data_centers', 'hyperscale_data_centers',\n",
    "       'colocation_data_centers', 'floor_space_sqft_total',\n",
    "       'power_capacity_MW_total', 'average_renewable_energy_usage_percent',\n",
    "       'tier_distribution', 'key_operators', 'cloud_provider',\n",
    "       'internet_penetration_percent',\n",
    "       'growth_rate_of_data_centers_percent_per_year',\n",
    "       'cooling_technologies_common']]\n",
    "\n",
    "nan_mask = data_centers_dropped_columns.isna()\n",
    "nan_array = nan_mask.astype(int).to_numpy()\n",
    "\n",
    "plt.figure(figsize=(12, 6))\n",
    "im = plt.imshow(nan_array.T, interpolation='nearest', aspect='auto', cmap='viridis')\n",
    "plt.xlabel('Range Index (len of df)')\n",
    "plt.ylabel('Features')\n",
    "plt.title('Visualizing Missing Values in Dataset')\n",
    "\n",
    "plt.yticks(range(len(data_centers_dropped_columns.columns)), data_centers_dropped_columns.columns)\n",
    "\n",
    "data_centers_dropped_columns_values = nan_array.shape[0]\n",
    "plt.xticks(np.linspace(0, data_centers_dropped_columns_values-1, min(10, data_centers_dropped_columns_values)).astype(int)) #zero indexed, but this is basically the len of df1\n",
    "plt.grid(True, axis='y', linestyle='--', alpha=0.7)"
   ]
  },
  {
   "cell_type": "markdown",
   "id": "8a14e67b-cb0c-4ef2-9e42-77252bd2e70a",
   "metadata": {},
   "source": [
    "# Standardizing individual columns to be numeric."
   ]
  },
  {
   "cell_type": "markdown",
   "id": "6f59fd1d-d4c3-4900-94be-fbdea2a658f7",
   "metadata": {},
   "source": [
    "### \"hyperscale_data_centers\" - before cleaning"
   ]
  },
  {
   "cell_type": "code",
   "execution_count": 5,
   "id": "2df23f53-429d-44d4-b37a-4694dc295cb9",
   "metadata": {},
   "outputs": [
    {
     "name": "stdout",
     "output_type": "stream",
     "text": [
      "object\n",
      "['300+' '50' '30' '100' '20' '15' '10' '5' '8' '6' '3' '4' '0' '1' '~12']\n",
      "len of unique: 15\n"
     ]
    }
   ],
   "source": [
    "print(data_centers[\"hyperscale_data_centers\"].dtype)\n",
    "print(data_centers[\"hyperscale_data_centers\"].unique())\n",
    "print(\"len of unique:\", len(data_centers[\"hyperscale_data_centers\"].unique()))"
   ]
  },
  {
   "cell_type": "markdown",
   "id": "dbc5e49a-59b3-49ab-91ad-25099505bbf7",
   "metadata": {},
   "source": [
    "### \"colocation_data_centers\" - before cleaning"
   ]
  },
  {
   "cell_type": "code",
   "execution_count": 6,
   "id": "39025712-8b17-45dd-ad74-ad8238c44537",
   "metadata": {},
   "outputs": [
    {
     "name": "stdout",
     "output_type": "stream",
     "text": [
      "object\n",
      "['~2,000+' '~200' '~150' '~1,000+' '~110' '~100' '~80' '~90' '~60' '~30'\n",
      " '~50' '~32' '~40' '2' '3' '5' '1' '4' '34' '6' '68' '16' '32' '27' '0'\n",
      " '31' '10' '18' '36' '42' '7' '15' '19' '20' '37' '52' '11' '35' '9' '12'\n",
      " '30' '17' '26' '22' '8' '21' '13' '60' '55']\n",
      "len of unique: 49\n"
     ]
    }
   ],
   "source": [
    "print(data_centers[\"colocation_data_centers\"].dtype)\n",
    "print(data_centers[\"colocation_data_centers\"].unique())\n",
    "print(\"len of unique:\", len(data_centers[\"colocation_data_centers\"].unique()))"
   ]
  },
  {
   "cell_type": "markdown",
   "id": "01aff723-7e3f-429b-bfb5-24e5b3a1c851",
   "metadata": {},
   "source": [
    "### \"power_capacity_MW_total\" - before cleaning"
   ]
  },
  {
   "cell_type": "code",
   "execution_count": 7,
   "id": "021c60f6-447b-480c-b749-66f454bed576",
   "metadata": {},
   "outputs": [
    {
     "name": "stdout",
     "output_type": "stream",
     "text": [
      "object\n",
      "['~12,000+' '~2,000+' '~1,000+' '~8,000+' '~700' '~500' '~1,200' '~400'\n",
      " '~1,000' '~800' '~200' '~300' '~250' '~150' '~120' '~110' '1,270' '2,730'\n",
      " '150' '20' '90' '10' '100' '60' '450' '110' '180' '30' '200' '300' '15'\n",
      " '8' nan '5' '3' '1' '~20' '57' '0' '2' '80' '50' '12' '710' '250' '513'\n",
      " '120' '566' '~25' '7' '4' '211' '137' '501' '18' '1,367' '497' '48' '345'\n",
      " '25' '35' '145']\n",
      "len of unique: 62\n"
     ]
    }
   ],
   "source": [
    "print(data_centers[\"power_capacity_MW_total\"].dtype)\n",
    "print(data_centers[\"power_capacity_MW_total\"].unique())\n",
    "print(\"len of unique:\", len(data_centers[\"power_capacity_MW_total\"].unique()))"
   ]
  },
  {
   "cell_type": "markdown",
   "id": "88f1f61c-38b3-4f3d-bb39-0eabc5f542b5",
   "metadata": {},
   "source": [
    "### \"internet_penetration_percent\" - before cleaning"
   ]
  },
  {
   "cell_type": "code",
   "execution_count": 8,
   "id": "19485301-4819-4c1b-abd4-7f77578b7e17",
   "metadata": {},
   "outputs": [
    {
     "name": "stdout",
     "output_type": "stream",
     "text": [
      "object\n",
      "['92%' '96%' '76%' '91%' '85%' '94%' '82%' '72%' '56%' '69%' '93%' '87%'\n",
      " '97%' '18%' '86%' '24%' '9550%' '6190%' '78%' '8740%' '7590%' '9120%'\n",
      " '7980%' '95%' '98%' '~75%' '80%' '~50%' '32%' '8840%' '~97%' '88%' '~34%'\n",
      " '~10%' '~98%' '~40%' nan '13%' '27%' '~25%' '~30%' '~95%' '38%' '~90%'\n",
      " '~68%' '~92%' '~99%' '65%' '83%' '~74%' '84' '77%' '45%' '40%' '25%'\n",
      " '55%' '35%' '70%' '74%' '33%' '37%' '39%' '66%' '89%' '100%' '79%' '61%'\n",
      " '46%' '41%' '60%' '200%' '93' '88.5' '79' '89' '92' '47' '32.4' '88' '97'\n",
      " '100' '20' '27.7' '81' '84.7' '35.1' '93.5' '73' '37.4' '79.5' '40.5'\n",
      " '94.3' '99' '83' '89.8' '90' '23' '41' '64.4' '50' '96.2' '71.3' '150'\n",
      " '48.2' '95.3' '57.5' '78' '24.1' '98' '85.5' '38' '70' '74' '77.7' '75'\n",
      " '61.5' '60.6' '87.7' '87.4' '~130' '130' '55.2' '28.7' '78.4' '56.8'\n",
      " '58.5' '66.8' '82' '34.9' '28' '82.4' '90.9' '35' '44' '80.7' '33']\n",
      "len of unique: 136\n"
     ]
    }
   ],
   "source": [
    "print(data_centers[\"internet_penetration_percent\"].dtype)\n",
    "print(data_centers[\"internet_penetration_percent\"].unique())\n",
    "print(\"len of unique:\", len(data_centers[\"internet_penetration_percent\"].unique()))"
   ]
  },
  {
   "cell_type": "markdown",
   "id": "96732f33-239e-45ab-8df7-1cbf58fa82db",
   "metadata": {},
   "source": [
    "### \"floor_space_sqft_total\" - before cleaning"
   ]
  },
  {
   "cell_type": "code",
   "execution_count": 9,
   "id": "0d23dab5-e59e-4f84-918a-7a1a1bfa6f5d",
   "metadata": {},
   "outputs": [
    {
     "name": "stdout",
     "output_type": "stream",
     "text": [
      "object\n",
      "['~3,552,000,000' '~350,000,000' '~200,000,000' '~500,000,000'\n",
      " '~120,000,000' '~90,000,000' '~40,000,000' '~35,000,000' '~20,000,000'\n",
      " '~50,000,000' '~30,000,000' '~10,000,000' '~14,000,000' '~12,000,000'\n",
      " '~8,000,000' '~7,000,000' '~10,000+' '~71,100+' '~18300' '~1,830'\n",
      " '~108,300' '5,000' '~721,000' '26,748' '~720,000' '~18,534' '40,000'\n",
      " '129,000' '~300000' '882,641' '1,245,085' '12,000' '2,500' '~137,800'\n",
      " '11,711' '35,200' '51,000' '281,991' '6,308' '~206000' '14,234' nan\n",
      " '~20,000' '720,630' '~27878' '~3710' '292,761' '~146763' '101,756'\n",
      " '~13000' '~355000' '1,100,000' '2,404' '25000-40000' '25,000-40,000'\n",
      " '15000-30000' '7,500' '6,000' '65,000' '8,000' '7,000' '120,000' '10,000'\n",
      " '~695,000' '250,000' '0' '150,000' '64,583' '50,000' '20,000' '500,000'\n",
      " '3,940,000' '13,000' '30,000' '112,000' '2,898,200' '270,000' '3,000'\n",
      " '4,300' '300,000' '2,800,000' '43,000' '22,000' '18,000' '28,000'\n",
      " '320,000' '15,000' '430,000' '3,000,000' '94,000' '35,000' '58,000'\n",
      " '2,280,000' '326,000' '200,000' '1,380,000' '137,674' '95,000' '24,000'\n",
      " '16,000' '60,000' '180,000' '450,000' '25,000']\n",
      "len of unique: 104\n"
     ]
    }
   ],
   "source": [
    "print(data_centers[\"floor_space_sqft_total\"].dtype)\n",
    "print(data_centers[\"floor_space_sqft_total\"].unique())\n",
    "print(\"len of unique:\", len(data_centers[\"floor_space_sqft_total\"].unique()))"
   ]
  },
  {
   "cell_type": "markdown",
   "id": "5fcfcfd4-5dc0-4933-8016-8a79810d1d74",
   "metadata": {},
   "source": [
    "### \"average_renewable_energy_usage_percent\" - before cleaning"
   ]
  },
  {
   "cell_type": "code",
   "execution_count": 10,
   "id": "785b0134-09e6-43b3-afd5-7bafddc51f42",
   "metadata": {},
   "outputs": [
    {
     "name": "stdout",
     "output_type": "stream",
     "text": [
      "object\n",
      "['~27%' '40%+' '0.45' '0.25' '0.78' '0.30' '0.90' '0.15' '0.95'\n",
      " '45% (target 2030)' '0.98' '0.20' '0.35' '0.80' '50.00' '100.00' '60.00'\n",
      " nan '40.00' '30-35%' '20-30%' '12.00' '10.00' '45.00' '15.00' '20.00'\n",
      " '~82' '70.00' '82.00' '74.00' '33.90' '32.50' '37.00' '39.00' '66.00'\n",
      " '25.00' '79.00' '69.00' '41.00' '46.00' '92.00' '93.00' '1.00' '88.50'\n",
      " '42.00' '47.00' '32.00' '88.00' '97.00' '76.00' '0.00' '89.80' '90.00'\n",
      " '64.40' '96.00' '71.30' '48.20' '98.00' '95.00' '57.50' '78.00' '24.00'\n",
      " '83.00' '79.50' '85.50' '99.00' '38.00' '77.70' '75.00' '61.50' '60.60'\n",
      " '87.40' '4.00' '2.00' '55.20' '28.70' '78.40' '35.80' '56.80' '36.30'\n",
      " '44.30' '58.50' '84.70' '66.80' '34.90' '5.00' '28.00' '82.40' '35.00'\n",
      " '44.00' '80.70' '33.00' '3.00']\n",
      "len of unique: 93\n"
     ]
    }
   ],
   "source": [
    "print(data_centers[\"average_renewable_energy_usage_percent\"].dtype)\n",
    "print(data_centers[\"average_renewable_energy_usage_percent\"].unique())\n",
    "print(\"len of unique:\", len(data_centers[\"average_renewable_energy_usage_percent\"].unique()))"
   ]
  },
  {
   "cell_type": "markdown",
   "id": "116de1ab-c6c1-42e5-8e89-4205c4af731b",
   "metadata": {},
   "source": [
    "### \"growth_rate_of_data_centers_percent_per_year\" - before cleaning"
   ]
  },
  {
   "cell_type": "code",
   "execution_count": 11,
   "id": "c5c91ffc-4687-4126-bb97-8803d0847cb3",
   "metadata": {},
   "outputs": [
    {
     "name": "stdout",
     "output_type": "stream",
     "text": [
      "object\n",
      "['12%' '8%' '7%' '15%' '6%' '9%' '10%' '18%' '14%' nan '~8 (est.)' '~15%'\n",
      " '5%' '~7% growth' '~10.7% CAGR' '~30% CAGR' '~8% growth' '~4% CAGR'\n",
      " '~10% growth' '~15% growth' '~12% growth' '~5.8% CAGR' '~7% CAGR'\n",
      " '~8–12% growth' '~12% CAGR' '~5% growth' '~6% CAGR' '~6–13% CAGR' '400%'\n",
      " '7-10%' '5-8%' '300%' '200%' '800%' '1200%' '~10–15\\u202f% annual growth'\n",
      " '1000%' '1400%' '500%' '600%' '1500%' '480%' '710%' '410%' '1300%'\n",
      " '3000%' '700%' '860%' '650%' '8\\u202f%' '0%' '290%' '1120%' '725%'\n",
      " '1334%' '610%' '1580%' '790%' '1029%' '1030%' '441%' '1840%' '1170%'\n",
      " '180%' '1280%' '1560%' '2080%' '2180%' '798%' '4900%' '210%' '20%' '50%'\n",
      " '1060%' '1760%' '230%' '510%' '190%' '550%' '350%' '745%' '160%' '90%'\n",
      " '-40%' '1010%' '100%' '780%' '955%' '791%' '1790%' '629%']\n",
      "len of unique: 91\n"
     ]
    }
   ],
   "source": [
    "print(data_centers[\"growth_rate_of_data_centers_percent_per_year\"].dtype)\n",
    "print(data_centers[\"growth_rate_of_data_centers_percent_per_year\"].unique())\n",
    "print(\"len of unique:\", len(data_centers[\"growth_rate_of_data_centers_percent_per_year\"].unique()))"
   ]
  },
  {
   "cell_type": "markdown",
   "id": "499f74c1-6036-45d6-913e-0e85c9f124b2",
   "metadata": {},
   "source": [
    "## Cleaning columns"
   ]
  },
  {
   "cell_type": "code",
   "execution_count": 12,
   "id": "557dfc88-c810-4960-8fba-5c1b103d7ee9",
   "metadata": {},
   "outputs": [],
   "source": [
    "# Simple cleaning of numeric columns by removing unwanted characters and converting to numeric types (~+,%())\n",
    "simple_columns_to_clean = [\n",
    "    'hyperscale_data_centers',\n",
    "    'colocation_data_centers',\n",
    "    'power_capacity_MW_total',\n",
    "    'internet_penetration_percent']\n",
    "\n",
    "for col in simple_columns_to_clean:\n",
    "    data_centers[col] = pd.to_numeric(\n",
    "        data_centers[col].astype(str).str.replace(r'[~+,%]', '', regex=True),\n",
    "        errors='coerce'\n",
    "    )"
   ]
  },
  {
   "cell_type": "markdown",
   "id": "6d7fd775-68a8-4e8b-89e0-26854eff26b4",
   "metadata": {},
   "source": [
    "## Extra cleaning for \"internet_penetration_percent\" for incorrectly stored values (Ex: 9550 is 95.50)"
   ]
  },
  {
   "cell_type": "code",
   "execution_count": 13,
   "id": "e99c70ca-96e7-45fa-8375-0ca7a9d72490",
   "metadata": {},
   "outputs": [
    {
     "name": "stdout",
     "output_type": "stream",
     "text": [
      "\n",
      "After fixing values over 100:\n",
      "[ 92.   96.   76.   91.   85.   94.   82.   72.   56.   69.   93.   87.\n",
      "  97.   18.   86.   24.   95.5  61.9  78.   87.4  75.9  91.2  79.8  95.\n",
      "  98.   75.   80.   50.   32.   88.4  88.   34.   10.   40.    nan  13.\n",
      "  27.   25.   30.   38.   90.   68.   99.   65.   83.   74.   84.   77.\n",
      "  45.   55.   35.   70.   33.   37.   39.   66.   89.  100.   79.   61.\n",
      "  46.   41.   60.   20.   88.5  47.   32.4  27.7  81.   84.7  35.1  93.5\n",
      "  73.   37.4  79.5  40.5  94.3  89.8  23.   64.4  96.2  71.3  15.   48.2\n",
      "  95.3  57.5  24.1  85.5  77.7  61.5  60.6  87.7  55.2  28.7  78.4  56.8\n",
      "  58.5  66.8  34.9  28.   82.4  90.9  44.   80.7]\n",
      "len of unique: 104\n"
     ]
    }
   ],
   "source": [
    "def fix_percentage(x):\n",
    "    if pd.isna(x):\n",
    "        return x\n",
    "    while x > 100:\n",
    "        x = x / 10\n",
    "    return x\n",
    "\n",
    "# Apply the fix to values over 100\n",
    "data_centers[\"internet_penetration_percent\"] = data_centers[\"internet_penetration_percent\"].apply(fix_percentage)\n",
    "\n",
    "print(\"\\nAfter fixing values over 100:\")\n",
    "print(data_centers[\"internet_penetration_percent\"].unique())\n",
    "print(\"len of unique:\", len(data_centers[\"internet_penetration_percent\"].unique()))"
   ]
  },
  {
   "cell_type": "code",
   "execution_count": 14,
   "id": "44cfc291-5ae7-45e6-b8ba-473cdf71df67",
   "metadata": {},
   "outputs": [],
   "source": [
    "complex_columns_to_clean = [\n",
    "    'average_renewable_energy_usage_percent', #has text + ranges of values\n",
    "    'growth_rate_of_data_centers_percent_per_year', # text + ranges of values\n",
    "    'floor_space_sqft_total'] # has ranges of values\n",
    "\n",
    "for col in complex_columns_to_clean:\n",
    "    data_centers[col] = data_centers[col].str.replace('–', '-', regex=False)  # Replace emdash\n",
    "    \n",
    "    # Special handling for floor_space_sqft_total to preserve commas\n",
    "    if col == 'floor_space_sqft_total':\n",
    "        # Remove only ~ and + symbols, keep commas for now\n",
    "        data_centers[col] = data_centers[col].str.replace(r'[~+]', '', regex=True)\n",
    "        # Extract number with commas and ranges\n",
    "        data_centers[col] = data_centers[col].str.extract(r'([\\d,]+\\.?\\d*-?[\\d,]*\\.?\\d*)', expand=False)\n",
    "    else:\n",
    "        data_centers[col] = data_centers[col].str.extract(r'(\\d+\\.?\\d*-?\\d*\\.?\\d*)', expand=False)"
   ]
  },
  {
   "cell_type": "code",
   "execution_count": 15,
   "id": "16bf4760-bfbe-4843-a1ba-46054f5444b3",
   "metadata": {},
   "outputs": [
    {
     "name": "stdout",
     "output_type": "stream",
     "text": [
      "object\n",
      "['27' '40' '0.45' '0.25' '0.78' '0.30' '0.90' '0.15' '0.95' '45' '0.98'\n",
      " '0.20' '0.35' '0.80' '50.00' '100.00' '60.00' nan '40.00' '30-35' '20-30'\n",
      " '12.00' '10.00' '45.00' '15.00' '20.00' '82' '70.00' '82.00' '74.00'\n",
      " '33.90' '32.50' '37.00' '39.00' '66.00' '25.00' '79.00' '69.00' '41.00'\n",
      " '46.00' '92.00' '93.00' '1.00' '88.50' '42.00' '47.00' '32.00' '88.00'\n",
      " '97.00' '76.00' '0.00' '89.80' '90.00' '64.40' '96.00' '71.30' '48.20'\n",
      " '98.00' '95.00' '57.50' '78.00' '24.00' '83.00' '79.50' '85.50' '99.00'\n",
      " '38.00' '77.70' '75.00' '61.50' '60.60' '87.40' '4.00' '2.00' '55.20'\n",
      " '28.70' '78.40' '35.80' '56.80' '36.30' '44.30' '58.50' '84.70' '66.80'\n",
      " '34.90' '5.00' '28.00' '82.40' '35.00' '44.00' '80.70' '33.00' '3.00']\n",
      "len of unique: 93\n"
     ]
    }
   ],
   "source": [
    "print(data_centers[\"average_renewable_energy_usage_percent\"].dtype)\n",
    "print(data_centers[\"average_renewable_energy_usage_percent\"].unique())\n",
    "print(\"len of unique:\", len(data_centers[\"average_renewable_energy_usage_percent\"].unique()))\n",
    "data_centers.loc[data_centers[\"average_renewable_energy_usage_percent\"] == '30-35', \"average_renewable_energy_usage_percent\"] = '32.50'\n",
    "data_centers.loc[data_centers[\"average_renewable_energy_usage_percent\"] == '20-30', \"average_renewable_energy_usage_percent\"] = '25.00'"
   ]
  },
  {
   "cell_type": "code",
   "execution_count": 16,
   "id": "4148e2c1-12e4-4d62-a6af-4437150d0caa",
   "metadata": {},
   "outputs": [
    {
     "name": "stdout",
     "output_type": "stream",
     "text": [
      "object\n",
      "['12' '8' '7' '15' '6' '9' '10' '18' '14' nan '5' '10.7' '30' '4' '5.8'\n",
      " '8-12' '6-13' '400' '7-10' '5-8' '300' '200' '800' '1200' '10-15' '1000'\n",
      " '1400' '500' '600' '1500' '480' '710' '410' '1300' '3000' '700' '860'\n",
      " '650' '0' '290' '1120' '725' '1334' '610' '1580' '790' '1029' '1030'\n",
      " '441' '1840' '1170' '180' '1280' '1560' '2080' '2180' '798' '4900' '210'\n",
      " '20' '50' '1060' '1760' '230' '510' '190' '550' '350' '745' '160' '90'\n",
      " '40' '1010' '100' '780' '955' '791' '1790' '629']\n",
      "len of unique: 79\n"
     ]
    }
   ],
   "source": [
    "print(data_centers[\"growth_rate_of_data_centers_percent_per_year\"].dtype)\n",
    "print(data_centers[\"growth_rate_of_data_centers_percent_per_year\"].unique())\n",
    "print(\"len of unique:\", len(data_centers[\"growth_rate_of_data_centers_percent_per_year\"].unique()))\n",
    "data_centers.loc[data_centers[\"growth_rate_of_data_centers_percent_per_year\"] == '8-12', \"growth_rate_of_data_centers_percent_per_year\"] = '10'\n",
    "data_centers.loc[data_centers[\"growth_rate_of_data_centers_percent_per_year\"] == '6-13', \"growth_rate_of_data_centers_percent_per_year\"] = '9.5'\n",
    "data_centers.loc[data_centers[\"growth_rate_of_data_centers_percent_per_year\"] == '7-10', \"growth_rate_of_data_centers_percent_per_year\"] = '8.5'\n",
    "data_centers.loc[data_centers[\"growth_rate_of_data_centers_percent_per_year\"] == '5-8', \"growth_rate_of_data_centers_percent_per_year\"] = '6.5'\n",
    "data_centers.loc[data_centers[\"growth_rate_of_data_centers_percent_per_year\"] == '10-15', \"growth_rate_of_data_centers_percent_per_year\"] = '12.5'"
   ]
  },
  {
   "cell_type": "code",
   "execution_count": 17,
   "id": "265a160a-85da-4352-814c-5bcdba7467dd",
   "metadata": {},
   "outputs": [
    {
     "name": "stdout",
     "output_type": "stream",
     "text": [
      "object\n",
      "['3,552,000,000' '350,000,000' '200,000,000' '500,000,000' '120,000,000'\n",
      " '90,000,000' '40,000,000' '35,000,000' '20,000,000' '50,000,000'\n",
      " '30,000,000' '10,000,000' '14,000,000' '12,000,000' '8,000,000'\n",
      " '7,000,000' '10,000' '71,100' '18300' '1,830' '108,300' '5,000' '721,000'\n",
      " '26,748' '720,000' '18,534' '40,000' '129,000' '300000' '882,641'\n",
      " '1,245,085' '12,000' '2,500' '137,800' '11,711' '35,200' '51,000'\n",
      " '281,991' '6,308' '206000' '14,234' nan '20,000' '720,630' '27878' '3710'\n",
      " '292,761' '146763' '101,756' '13000' '355000' '1,100,000' '2,404'\n",
      " '25000-40000' '25,000-40,000' '15000-30000' '7,500' '6,000' '65,000'\n",
      " '8,000' '7,000' '120,000' '695,000' '250,000' '0' '150,000' '64,583'\n",
      " '50,000' '500,000' '3,940,000' '13,000' '30,000' '112,000' '2,898,200'\n",
      " '270,000' '3,000' '4,300' '300,000' '2,800,000' '43,000' '22,000'\n",
      " '18,000' '28,000' '320,000' '15,000' '430,000' '3,000,000' '94,000'\n",
      " '35,000' '58,000' '2,280,000' '326,000' '200,000' '1,380,000' '137,674'\n",
      " '95,000' '24,000' '16,000' '60,000' '180,000' '450,000' '25,000']\n",
      "len of unique: 102\n"
     ]
    }
   ],
   "source": [
    "print(data_centers[\"floor_space_sqft_total\"].dtype)\n",
    "print(data_centers[\"floor_space_sqft_total\"].unique())\n",
    "print(\"len of unique:\", len(data_centers[\"floor_space_sqft_total\"].unique()))\n",
    "data_centers.loc[data_centers[\"floor_space_sqft_total\"] == '15000-30000', \"floor_space_sqft_total\"] = '22500'\n",
    "data_centers.loc[data_centers[\"floor_space_sqft_total\"] == '25000-40000', \"floor_space_sqft_total\"] = '32500'"
   ]
  },
  {
   "cell_type": "markdown",
   "id": "98d38d8b-1ac2-407a-808d-1580c56bc9fc",
   "metadata": {},
   "source": [
    "## Lastly converting the complex columns to numeric."
   ]
  },
  {
   "cell_type": "code",
   "execution_count": 18,
   "id": "39500cfc-4939-474d-a735-86a6ec16c973",
   "metadata": {},
   "outputs": [],
   "source": [
    "for complex_col in complex_columns_to_clean:\n",
    "    if complex_col == 'floor_space_sqft_total':\n",
    "        # Remove commas before converting to numeric\n",
    "        data_centers[complex_col] = pd.to_numeric(\n",
    "            data_centers[complex_col].astype(str).str.replace(',', '', regex=False),\n",
    "            errors='coerce'\n",
    "        )\n",
    "    else:\n",
    "        data_centers[complex_col] = pd.to_numeric(\n",
    "            data_centers[complex_col].astype(str).str.replace(r'[~+,%]', '', regex=True),\n",
    "            errors='coerce'\n",
    "        )"
   ]
  },
  {
   "cell_type": "code",
   "execution_count": 19,
   "id": "651b49c8-fbb0-4e81-a2d9-bed765d23a60",
   "metadata": {},
   "outputs": [
    {
     "name": "stdout",
     "output_type": "stream",
     "text": [
      "<class 'pandas.core.frame.DataFrame'>\n",
      "RangeIndex: 191 entries, 0 to 190\n",
      "Data columns (total 13 columns):\n",
      " #   Column                                        Non-Null Count  Dtype  \n",
      "---  ------                                        --------------  -----  \n",
      " 0   country                                       191 non-null    object \n",
      " 1   total_data_centers                            191 non-null    int64  \n",
      " 2   hyperscale_data_centers                       191 non-null    int64  \n",
      " 3   colocation_data_centers                       191 non-null    int64  \n",
      " 4   floor_space_sqft_total                        183 non-null    float64\n",
      " 5   power_capacity_MW_total                       165 non-null    float64\n",
      " 6   average_renewable_energy_usage_percent        148 non-null    float64\n",
      " 7   tier_distribution                             179 non-null    object \n",
      " 8   key_operators                                 170 non-null    object \n",
      " 9   cloud_provider                                149 non-null    object \n",
      " 10  internet_penetration_percent                  190 non-null    float64\n",
      " 11  growth_rate_of_data_centers_percent_per_year  174 non-null    float64\n",
      " 12  cooling_technologies_common                   145 non-null    object \n",
      "dtypes: float64(5), int64(3), object(5)\n",
      "memory usage: 19.5+ KB\n",
      "None\n"
     ]
    }
   ],
   "source": [
    "# Checking final types\n",
    "print(data_centers.info())"
   ]
  },
  {
   "cell_type": "markdown",
   "id": "bacebc66-685b-44e5-bb8f-b1fe4e81a284",
   "metadata": {},
   "source": [
    "## Saving to new cleaned csv file."
   ]
  },
  {
   "cell_type": "code",
   "execution_count": 20,
   "id": "1cd641d7-5056-488e-922c-f8faf35c5ce0",
   "metadata": {},
   "outputs": [],
   "source": [
    "data_centers.to_csv('cleaned_numeric_data_centers.csv', index=False)"
   ]
  }
 ],
 "metadata": {
  "kernelspec": {
   "display_name": "Python 3",
   "language": "python",
   "name": "python3"
  },
  "language_info": {
   "codemirror_mode": {
    "name": "ipython",
    "version": 3
   },
   "file_extension": ".py",
   "mimetype": "text/x-python",
   "name": "python",
   "nbconvert_exporter": "python",
   "pygments_lexer": "ipython3",
   "version": "3.12.10"
  }
 },
 "nbformat": 4,
 "nbformat_minor": 5
}
